{
 "cells": [
  {
   "cell_type": "code",
   "execution_count": 1,
   "id": "78252b51",
   "metadata": {},
   "outputs": [],
   "source": [
    "import pandas as pd\n",
    "\n",
    "tel = pd.read_excel('tel.xlsb', parse_dates={'date': [2]})\n",
    "tel['day'] = tel['date'].dt.day \n",
    "operator = pd.read_excel('Operators.xlsx')\n",
    "\n",
    "oper_tel = tel.merge(operator, how = 'left')\n",
    "oper_tel = oper_tel.rename(columns={'App':'app', 'Operator':'operator'})\n",
    "\n",
    "oper_tel.to_excel('merge_data.xlsx', index=False)"
   ]
  }
 ],
 "metadata": {
  "kernelspec": {
   "display_name": "Python 3 (ipykernel)",
   "language": "python",
   "name": "python3"
  },
  "language_info": {
   "codemirror_mode": {
    "name": "ipython",
    "version": 3
   },
   "file_extension": ".py",
   "mimetype": "text/x-python",
   "name": "python",
   "nbconvert_exporter": "python",
   "pygments_lexer": "ipython3",
   "version": "3.9.12"
  }
 },
 "nbformat": 4,
 "nbformat_minor": 5
}
